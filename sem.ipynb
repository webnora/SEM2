{
 "cells": [
  {
   "cell_type": "code",
   "execution_count": 1,
   "metadata": {},
   "outputs": [],
   "source": [
    "import json\n",
    "import os\n",
    "import pandas as pd    \n",
    "import numpy as np \n",
    "import re\n",
    "from numba import jit\n",
    "from nltk.metrics import distance"
   ]
  },
  {
   "cell_type": "code",
   "execution_count": 2,
   "metadata": {},
   "outputs": [],
   "source": [
    "with open(\"ang_en.txt\", \"r\") as read_file:\n",
    "    ang_en = read_file.readlines()"
   ]
  },
  {
   "cell_type": "code",
   "execution_count": 3,
   "metadata": {},
   "outputs": [
    {
     "data": {
      "text/plain": [
       "15320"
      ]
     },
     "execution_count": 3,
     "metadata": {},
     "output_type": "execute_result"
    }
   ],
   "source": [
    "def pars(w):\n",
    "    a = re.sub(r'[{}\\n]', '', w).split('::')\n",
    "    b = a[0].split(' ')\n",
    "    return b[0], b[1], a[1]\n",
    "f = [pars(w) for w in ang_en]\n",
    "len(f)"
   ]
  },
  {
   "cell_type": "code",
   "execution_count": 4,
   "metadata": {},
   "outputs": [],
   "source": [
    "filtered = [ el for el in f if el[1] in ['n', 'v','vi','vt','vit', 'adj']]"
   ]
  },
  {
   "cell_type": "code",
   "execution_count": 5,
   "metadata": {},
   "outputs": [
    {
     "data": {
      "text/plain": [
       "[('ᛗᚫᚷᚫ', 'n', ' dative singular form of ᛗᚫᚷ'),\n",
       " ('Arabisc', 'adj', ' Arabic, Arabian'),\n",
       " ('Arabisc', 'adj', ' an Arab')]"
      ]
     },
     "execution_count": 5,
     "metadata": {},
     "output_type": "execute_result"
    }
   ],
   "source": [
    "filtered[:3]"
   ]
  },
  {
   "cell_type": "code",
   "execution_count": 6,
   "metadata": {},
   "outputs": [
    {
     "data": {
      "text/plain": [
       "13414"
      ]
     },
     "execution_count": 6,
     "metadata": {},
     "output_type": "execute_result"
    }
   ],
   "source": [
    "filtered1 =[(re.sub(r'ƿ','w', el[0]), el[1], el[2].split(',')[0].split(';')[0]) for el in filtered]\n",
    "len(filtered1)"
   ]
  },
  {
   "cell_type": "code",
   "execution_count": 7,
   "metadata": {},
   "outputs": [],
   "source": [
    "filtered2 = [ el for el in filtered1 if not re.match(r'.*alternative', el[2])]"
   ]
  },
  {
   "cell_type": "code",
   "execution_count": 8,
   "metadata": {},
   "outputs": [],
   "source": [
    "filtered3 = [ el for el in filtered2 if not re.match(r'.*participle', el[2])]"
   ]
  },
  {
   "cell_type": "code",
   "execution_count": 9,
   "metadata": {},
   "outputs": [
    {
     "data": {
      "text/plain": [
       "[('þyrelian', 'v', ' to make hollow'),\n",
       " ('þyrelung', 'n', ' perforation'),\n",
       " ('þyrre', 'adj', ' not wet'),\n",
       " ('þyrs', 'n', ' monster'),\n",
       " ('þyrstan',\n",
       "  'v',\n",
       "  ' to be thirsty (+genitive for something) (often impersonal'),\n",
       " ('þæc', 'n', ' roof'),\n",
       " ('þæc', 'n', ' thatch'),\n",
       " ('þæcele', 'n', ' torch'),\n",
       " ('þæctigele', 'n', ' roof tile'),\n",
       " ('þæsma', 'n', ' leaven')]"
      ]
     },
     "execution_count": 9,
     "metadata": {},
     "output_type": "execute_result"
    }
   ],
   "source": [
    "filtered4 = [ el for el in filtered3 if not re.match(r'.*form', el[2])]\n",
    "filtered4[-10:]"
   ]
  },
  {
   "cell_type": "code",
   "execution_count": 10,
   "metadata": {},
   "outputs": [
    {
     "data": {
      "text/html": [
       "<div>\n",
       "<style scoped>\n",
       "    .dataframe tbody tr th:only-of-type {\n",
       "        vertical-align: middle;\n",
       "    }\n",
       "\n",
       "    .dataframe tbody tr th {\n",
       "        vertical-align: top;\n",
       "    }\n",
       "\n",
       "    .dataframe thead th {\n",
       "        text-align: right;\n",
       "    }\n",
       "</style>\n",
       "<table border=\"1\" class=\"dataframe\">\n",
       "  <thead>\n",
       "    <tr style=\"text-align: right;\">\n",
       "      <th></th>\n",
       "      <th>0</th>\n",
       "      <th>1</th>\n",
       "      <th>2</th>\n",
       "    </tr>\n",
       "  </thead>\n",
       "  <tbody>\n",
       "    <tr>\n",
       "      <th>0</th>\n",
       "      <td>Arabisc</td>\n",
       "      <td>adj</td>\n",
       "      <td>Arabic</td>\n",
       "    </tr>\n",
       "    <tr>\n",
       "      <th>1</th>\n",
       "      <td>Arabisc</td>\n",
       "      <td>adj</td>\n",
       "      <td>an Arab</td>\n",
       "    </tr>\n",
       "    <tr>\n",
       "      <th>2</th>\n",
       "      <td>Arabisc</td>\n",
       "      <td>n</td>\n",
       "      <td>the Arabic language</td>\n",
       "    </tr>\n",
       "    <tr>\n",
       "      <th>3</th>\n",
       "      <td>Bryttas</td>\n",
       "      <td>n</td>\n",
       "      <td>Britons</td>\n",
       "    </tr>\n",
       "    <tr>\n",
       "      <th>4</th>\n",
       "      <td>Crecisc</td>\n",
       "      <td>adj</td>\n",
       "      <td>Greek</td>\n",
       "    </tr>\n",
       "    <tr>\n",
       "      <th>...</th>\n",
       "      <td>...</td>\n",
       "      <td>...</td>\n",
       "      <td>...</td>\n",
       "    </tr>\n",
       "    <tr>\n",
       "      <th>10278</th>\n",
       "      <td>þæc</td>\n",
       "      <td>n</td>\n",
       "      <td>roof</td>\n",
       "    </tr>\n",
       "    <tr>\n",
       "      <th>10279</th>\n",
       "      <td>þæc</td>\n",
       "      <td>n</td>\n",
       "      <td>thatch</td>\n",
       "    </tr>\n",
       "    <tr>\n",
       "      <th>10280</th>\n",
       "      <td>þæcele</td>\n",
       "      <td>n</td>\n",
       "      <td>torch</td>\n",
       "    </tr>\n",
       "    <tr>\n",
       "      <th>10281</th>\n",
       "      <td>þæctigele</td>\n",
       "      <td>n</td>\n",
       "      <td>roof tile</td>\n",
       "    </tr>\n",
       "    <tr>\n",
       "      <th>10282</th>\n",
       "      <td>þæsma</td>\n",
       "      <td>n</td>\n",
       "      <td>leaven</td>\n",
       "    </tr>\n",
       "  </tbody>\n",
       "</table>\n",
       "<p>10283 rows × 3 columns</p>\n",
       "</div>"
      ],
      "text/plain": [
       "               0    1                     2\n",
       "0        Arabisc  adj                Arabic\n",
       "1        Arabisc  adj               an Arab\n",
       "2        Arabisc    n   the Arabic language\n",
       "3        Bryttas    n               Britons\n",
       "4        Crecisc  adj                 Greek\n",
       "...          ...  ...                   ...\n",
       "10278        þæc    n                  roof\n",
       "10279        þæc    n                thatch\n",
       "10280     þæcele    n                 torch\n",
       "10281  þæctigele    n             roof tile\n",
       "10282      þæsma    n                leaven\n",
       "\n",
       "[10283 rows x 3 columns]"
      ]
     },
     "execution_count": 10,
     "metadata": {},
     "output_type": "execute_result"
    }
   ],
   "source": [
    "table = pd.DataFrame(filtered4)      \n",
    "table"
   ]
  },
  {
   "cell_type": "code",
   "execution_count": 11,
   "metadata": {},
   "outputs": [
    {
     "data": {
      "text/html": [
       "<div>\n",
       "<style scoped>\n",
       "    .dataframe tbody tr th:only-of-type {\n",
       "        vertical-align: middle;\n",
       "    }\n",
       "\n",
       "    .dataframe tbody tr th {\n",
       "        vertical-align: top;\n",
       "    }\n",
       "\n",
       "    .dataframe thead th {\n",
       "        text-align: right;\n",
       "    }\n",
       "</style>\n",
       "<table border=\"1\" class=\"dataframe\">\n",
       "  <thead>\n",
       "    <tr style=\"text-align: right;\">\n",
       "      <th></th>\n",
       "      <th>0</th>\n",
       "      <th>1</th>\n",
       "      <th>2</th>\n",
       "    </tr>\n",
       "  </thead>\n",
       "  <tbody>\n",
       "    <tr>\n",
       "      <th>0</th>\n",
       "      <td>Arabisc</td>\n",
       "      <td>adj</td>\n",
       "      <td>Arabic</td>\n",
       "    </tr>\n",
       "    <tr>\n",
       "      <th>3</th>\n",
       "      <td>Bryttas</td>\n",
       "      <td>n</td>\n",
       "      <td>Britons</td>\n",
       "    </tr>\n",
       "    <tr>\n",
       "      <th>4</th>\n",
       "      <td>Crecisc</td>\n",
       "      <td>adj</td>\n",
       "      <td>Greek</td>\n",
       "    </tr>\n",
       "    <tr>\n",
       "      <th>6</th>\n",
       "      <td>Crist</td>\n",
       "      <td>n</td>\n",
       "      <td>Christ</td>\n",
       "    </tr>\n",
       "    <tr>\n",
       "      <th>7</th>\n",
       "      <td>Dene</td>\n",
       "      <td>n</td>\n",
       "      <td>Danes</td>\n",
       "    </tr>\n",
       "    <tr>\n",
       "      <th>...</th>\n",
       "      <td>...</td>\n",
       "      <td>...</td>\n",
       "      <td>...</td>\n",
       "    </tr>\n",
       "    <tr>\n",
       "      <th>10277</th>\n",
       "      <td>þyrstan</td>\n",
       "      <td>v</td>\n",
       "      <td>to be thirsty (+genitive for something) (ofte...</td>\n",
       "    </tr>\n",
       "    <tr>\n",
       "      <th>10278</th>\n",
       "      <td>þæc</td>\n",
       "      <td>n</td>\n",
       "      <td>roof</td>\n",
       "    </tr>\n",
       "    <tr>\n",
       "      <th>10280</th>\n",
       "      <td>þæcele</td>\n",
       "      <td>n</td>\n",
       "      <td>torch</td>\n",
       "    </tr>\n",
       "    <tr>\n",
       "      <th>10281</th>\n",
       "      <td>þæctigele</td>\n",
       "      <td>n</td>\n",
       "      <td>roof tile</td>\n",
       "    </tr>\n",
       "    <tr>\n",
       "      <th>10282</th>\n",
       "      <td>þæsma</td>\n",
       "      <td>n</td>\n",
       "      <td>leaven</td>\n",
       "    </tr>\n",
       "  </tbody>\n",
       "</table>\n",
       "<p>6589 rows × 3 columns</p>\n",
       "</div>"
      ],
      "text/plain": [
       "               0    1                                                  2\n",
       "0        Arabisc  adj                                             Arabic\n",
       "3        Bryttas    n                                            Britons\n",
       "4        Crecisc  adj                                              Greek\n",
       "6          Crist    n                                             Christ\n",
       "7           Dene    n                                              Danes\n",
       "...          ...  ...                                                ...\n",
       "10277    þyrstan    v   to be thirsty (+genitive for something) (ofte...\n",
       "10278        þæc    n                                               roof\n",
       "10280     þæcele    n                                              torch\n",
       "10281  þæctigele    n                                          roof tile\n",
       "10282      þæsma    n                                             leaven\n",
       "\n",
       "[6589 rows x 3 columns]"
      ]
     },
     "execution_count": 11,
     "metadata": {},
     "output_type": "execute_result"
    }
   ],
   "source": [
    "table1 = table.drop_duplicates(subset = [0])\n",
    "table1"
   ]
  },
  {
   "cell_type": "code",
   "execution_count": 12,
   "metadata": {},
   "outputs": [
    {
     "data": {
      "text/html": [
       "<div>\n",
       "<style scoped>\n",
       "    .dataframe tbody tr th:only-of-type {\n",
       "        vertical-align: middle;\n",
       "    }\n",
       "\n",
       "    .dataframe tbody tr th {\n",
       "        vertical-align: top;\n",
       "    }\n",
       "\n",
       "    .dataframe thead th {\n",
       "        text-align: right;\n",
       "    }\n",
       "</style>\n",
       "<table border=\"1\" class=\"dataframe\">\n",
       "  <thead>\n",
       "    <tr style=\"text-align: right;\">\n",
       "      <th></th>\n",
       "      <th>0</th>\n",
       "      <th>1</th>\n",
       "      <th>2</th>\n",
       "    </tr>\n",
       "  </thead>\n",
       "  <tbody>\n",
       "    <tr>\n",
       "      <th>42</th>\n",
       "      <td>abecede</td>\n",
       "      <td>n</td>\n",
       "      <td>ABC</td>\n",
       "    </tr>\n",
       "    <tr>\n",
       "      <th>43</th>\n",
       "      <td>abelgan</td>\n",
       "      <td>v</td>\n",
       "      <td>to make angry</td>\n",
       "    </tr>\n",
       "    <tr>\n",
       "      <th>46</th>\n",
       "      <td>abeodan</td>\n",
       "      <td>v</td>\n",
       "      <td>to proclaim</td>\n",
       "    </tr>\n",
       "    <tr>\n",
       "      <th>48</th>\n",
       "      <td>aberan</td>\n",
       "      <td>v</td>\n",
       "      <td>to bear</td>\n",
       "    </tr>\n",
       "    <tr>\n",
       "      <th>50</th>\n",
       "      <td>aberendlic</td>\n",
       "      <td>adj</td>\n",
       "      <td>bearable</td>\n",
       "    </tr>\n",
       "    <tr>\n",
       "      <th>...</th>\n",
       "      <td>...</td>\n",
       "      <td>...</td>\n",
       "      <td>...</td>\n",
       "    </tr>\n",
       "    <tr>\n",
       "      <th>10277</th>\n",
       "      <td>þyrstan</td>\n",
       "      <td>v</td>\n",
       "      <td>to be thirsty (+genitive for something) (ofte...</td>\n",
       "    </tr>\n",
       "    <tr>\n",
       "      <th>10278</th>\n",
       "      <td>þæc</td>\n",
       "      <td>n</td>\n",
       "      <td>roof</td>\n",
       "    </tr>\n",
       "    <tr>\n",
       "      <th>10280</th>\n",
       "      <td>þæcele</td>\n",
       "      <td>n</td>\n",
       "      <td>torch</td>\n",
       "    </tr>\n",
       "    <tr>\n",
       "      <th>10281</th>\n",
       "      <td>þæctigele</td>\n",
       "      <td>n</td>\n",
       "      <td>roof tile</td>\n",
       "    </tr>\n",
       "    <tr>\n",
       "      <th>10282</th>\n",
       "      <td>þæsma</td>\n",
       "      <td>n</td>\n",
       "      <td>leaven</td>\n",
       "    </tr>\n",
       "  </tbody>\n",
       "</table>\n",
       "<p>6562 rows × 3 columns</p>\n",
       "</div>"
      ],
      "text/plain": [
       "                0    1                                                  2\n",
       "42        abecede    n                                                ABC\n",
       "43        abelgan    v                                      to make angry\n",
       "46        abeodan    v                                        to proclaim\n",
       "48         aberan    v                                            to bear\n",
       "50     aberendlic  adj                                           bearable\n",
       "...           ...  ...                                                ...\n",
       "10277     þyrstan    v   to be thirsty (+genitive for something) (ofte...\n",
       "10278         þæc    n                                               roof\n",
       "10280      þæcele    n                                              torch\n",
       "10281   þæctigele    n                                          roof tile\n",
       "10282       þæsma    n                                             leaven\n",
       "\n",
       "[6562 rows x 3 columns]"
      ]
     },
     "execution_count": 12,
     "metadata": {},
     "output_type": "execute_result"
    }
   ],
   "source": [
    "table2 = table1[table1[0].str[0].str.islower()]\n",
    "table2"
   ]
  },
  {
   "cell_type": "code",
   "execution_count": 13,
   "metadata": {},
   "outputs": [],
   "source": [
    "table2.to_csv('ang_en2.csv', index=False)"
   ]
  },
  {
   "cell_type": "code",
   "execution_count": 14,
   "metadata": {},
   "outputs": [
    {
     "data": {
      "text/plain": [
       "array([['abecede', 'n', ' ABC'],\n",
       "       ['abelgan', 'v', ' to make angry'],\n",
       "       ['abeodan', 'v', ' to proclaim'],\n",
       "       ...,\n",
       "       ['þæcele', 'n', ' torch'],\n",
       "       ['þæctigele', 'n', ' roof tile'],\n",
       "       ['þæsma', 'n', ' leaven']], dtype=object)"
      ]
     },
     "execution_count": 14,
     "metadata": {},
     "output_type": "execute_result"
    }
   ],
   "source": [
    "clean = table2.to_numpy()\n",
    "clean"
   ]
  },
  {
   "cell_type": "code",
   "execution_count": 15,
   "metadata": {},
   "outputs": [
    {
     "data": {
      "text/plain": [
       "6562"
      ]
     },
     "execution_count": 15,
     "metadata": {},
     "output_type": "execute_result"
    }
   ],
   "source": [
    "q = [el[0] for el in clean]\n",
    "len(q)"
   ]
  },
  {
   "cell_type": "code",
   "execution_count": 16,
   "metadata": {},
   "outputs": [
    {
     "data": {
      "text/plain": [
       "5772"
      ]
     },
     "execution_count": 16,
     "metadata": {},
     "output_type": "execute_result"
    }
   ],
   "source": [
    "mono = [w for w in q if not re.match(r'([aoeiuyæ].*){3,}', w)]\n",
    "len(mono)"
   ]
  },
  {
   "cell_type": "code",
   "execution_count": 17,
   "metadata": {},
   "outputs": [
    {
     "data": {
      "text/html": [
       "<div>\n",
       "<style scoped>\n",
       "    .dataframe tbody tr th:only-of-type {\n",
       "        vertical-align: middle;\n",
       "    }\n",
       "\n",
       "    .dataframe tbody tr th {\n",
       "        vertical-align: top;\n",
       "    }\n",
       "\n",
       "    .dataframe thead th {\n",
       "        text-align: right;\n",
       "    }\n",
       "</style>\n",
       "<table border=\"1\" class=\"dataframe\">\n",
       "  <thead>\n",
       "    <tr style=\"text-align: right;\">\n",
       "      <th></th>\n",
       "      <th>word</th>\n",
       "      <th>pos</th>\n",
       "      <th>definition_edited</th>\n",
       "    </tr>\n",
       "  </thead>\n",
       "  <tbody>\n",
       "    <tr>\n",
       "      <th>0</th>\n",
       "      <td>abecede</td>\n",
       "      <td>n</td>\n",
       "      <td>ABC; alphabet</td>\n",
       "    </tr>\n",
       "    <tr>\n",
       "      <th>1</th>\n",
       "      <td>abelgan</td>\n",
       "      <td>v</td>\n",
       "      <td>to make angry, tick off, enrage, irritate, ann...</td>\n",
       "    </tr>\n",
       "    <tr>\n",
       "      <th>2</th>\n",
       "      <td>abeodan</td>\n",
       "      <td>v</td>\n",
       "      <td>to proclaim, announce, state, bid</td>\n",
       "    </tr>\n",
       "    <tr>\n",
       "      <th>3</th>\n",
       "      <td>aberan</td>\n",
       "      <td>v</td>\n",
       "      <td>to bear, carry, tolerate, endure, suffer; thole</td>\n",
       "    </tr>\n",
       "    <tr>\n",
       "      <th>4</th>\n",
       "      <td>aberendlic</td>\n",
       "      <td>adj</td>\n",
       "      <td>bearable; tolerable</td>\n",
       "    </tr>\n",
       "    <tr>\n",
       "      <th>...</th>\n",
       "      <td>...</td>\n",
       "      <td>...</td>\n",
       "      <td>...</td>\n",
       "    </tr>\n",
       "    <tr>\n",
       "      <th>6414</th>\n",
       "      <td>þyrstan</td>\n",
       "      <td>v</td>\n",
       "      <td>to be thirsty</td>\n",
       "    </tr>\n",
       "    <tr>\n",
       "      <th>6415</th>\n",
       "      <td>þæc</td>\n",
       "      <td>n</td>\n",
       "      <td>roof</td>\n",
       "    </tr>\n",
       "    <tr>\n",
       "      <th>6416</th>\n",
       "      <td>þæcele</td>\n",
       "      <td>n</td>\n",
       "      <td>torch, light</td>\n",
       "    </tr>\n",
       "    <tr>\n",
       "      <th>6417</th>\n",
       "      <td>þæctigele</td>\n",
       "      <td>n</td>\n",
       "      <td>roof tile</td>\n",
       "    </tr>\n",
       "    <tr>\n",
       "      <th>6418</th>\n",
       "      <td>þæsma</td>\n",
       "      <td>n</td>\n",
       "      <td>leaven; yeast</td>\n",
       "    </tr>\n",
       "  </tbody>\n",
       "</table>\n",
       "<p>6419 rows × 3 columns</p>\n",
       "</div>"
      ],
      "text/plain": [
       "            word  pos                                  definition_edited\n",
       "0        abecede    n                                      ABC; alphabet\n",
       "1        abelgan    v  to make angry, tick off, enrage, irritate, ann...\n",
       "2        abeodan    v                  to proclaim, announce, state, bid\n",
       "3         aberan    v    to bear, carry, tolerate, endure, suffer; thole\n",
       "4     aberendlic  adj                                bearable; tolerable\n",
       "...          ...  ...                                                ...\n",
       "6414     þyrstan    v                                      to be thirsty\n",
       "6415         þæc    n                                               roof\n",
       "6416      þæcele    n                                       torch, light\n",
       "6417   þæctigele    n                                          roof tile\n",
       "6418       þæsma    n                                      leaven; yeast\n",
       "\n",
       "[6419 rows x 3 columns]"
      ]
     },
     "execution_count": 17,
     "metadata": {},
     "output_type": "execute_result"
    }
   ],
   "source": [
    "new_clean = pd.read_csv (r'ang_en_wiktionary - without adv.csv')\n",
    "new_clean_1 = pd.DataFrame(new_clean, columns= ['word','pos', 'definition_edited'])\n",
    "new_clean_1"
   ]
  },
  {
   "cell_type": "code",
   "execution_count": 18,
   "metadata": {},
   "outputs": [
    {
     "data": {
      "text/plain": [
       "array([['abecede', 'n', 'ABC; alphabet'],\n",
       "       ['abelgan', 'v',\n",
       "        'to make angry, tick off, enrage, irritate, annoy, vex, grill, incense, cause anyone to swell with anger, offend'],\n",
       "       ['abeodan', 'v', 'to proclaim, announce, state, bid'],\n",
       "       ...,\n",
       "       ['þæcele', 'n', 'torch, light'],\n",
       "       ['þæctigele', 'n', 'roof tile'],\n",
       "       ['þæsma', 'n', 'leaven; yeast']], dtype=object)"
      ]
     },
     "execution_count": 18,
     "metadata": {},
     "output_type": "execute_result"
    }
   ],
   "source": [
    "new_arr = new_clean_1.to_numpy()\n",
    "new_arr"
   ]
  },
  {
   "cell_type": "markdown",
   "metadata": {},
   "source": [
    "полный корпус"
   ]
  },
  {
   "cell_type": "code",
   "execution_count": 34,
   "metadata": {},
   "outputs": [
    {
     "data": {
      "text/plain": [
       "6419"
      ]
     },
     "execution_count": 34,
     "metadata": {},
     "output_type": "execute_result"
    }
   ],
   "source": [
    "# полный корпус\n",
    "new_arr_tot = [el[0] for el in new_arr]\n",
    "len(new_arr_tot)"
   ]
  },
  {
   "cell_type": "markdown",
   "metadata": {},
   "source": [
    "выборка глаголов"
   ]
  },
  {
   "cell_type": "code",
   "execution_count": 20,
   "metadata": {},
   "outputs": [],
   "source": [
    "verbs = [el[0] for el in new_arr if el[1]=='v']"
   ]
  },
  {
   "cell_type": "code",
   "execution_count": 21,
   "metadata": {},
   "outputs": [],
   "source": [
    "with open(\"verbs.txt\", 'w') as output:\n",
    "    for row in verbs:\n",
    "        output.write(str(row) + '\\n')"
   ]
  },
  {
   "cell_type": "code",
   "execution_count": 22,
   "metadata": {},
   "outputs": [
    {
     "data": {
      "text/plain": [
       "4593"
      ]
     },
     "execution_count": 22,
     "metadata": {},
     "output_type": "execute_result"
    }
   ],
   "source": [
    "new_arr_1 = [el[0] for el in new_arr if not el[1]=='v']\n",
    "len(new_arr_1)"
   ]
  },
  {
   "cell_type": "code",
   "execution_count": 23,
   "metadata": {},
   "outputs": [],
   "source": [
    "with open(\"no_pref.txt\", \"r\") as read_file:\n",
    "    _verbs = read_file.readlines()"
   ]
  },
  {
   "cell_type": "code",
   "execution_count": 24,
   "metadata": {},
   "outputs": [],
   "source": [
    "_verbs = [w.strip() for w in _verbs] "
   ]
  },
  {
   "cell_type": "markdown",
   "metadata": {},
   "source": [
    "корпус с глаголами без приставок"
   ]
  },
  {
   "cell_type": "code",
   "execution_count": 35,
   "metadata": {},
   "outputs": [
    {
     "data": {
      "text/plain": [
       "5440"
      ]
     },
     "execution_count": 35,
     "metadata": {},
     "output_type": "execute_result"
    }
   ],
   "source": [
    "new = new_arr_1 + _verbs\n",
    "len(new)"
   ]
  },
  {
   "cell_type": "markdown",
   "metadata": {},
   "source": [
    "корпус с односложными словами"
   ]
  },
  {
   "cell_type": "code",
   "execution_count": 36,
   "metadata": {},
   "outputs": [
    {
     "data": {
      "text/plain": [
       "3790"
      ]
     },
     "execution_count": 36,
     "metadata": {},
     "output_type": "execute_result"
    }
   ],
   "source": [
    "# mono_new_2 = [w for w in new if not re.match(r'([aoeiuyæ].*?){3,}', w)]\n",
    "# mono_new_2 = [(w, len(re.findall(r'[aoeiuyæ]+', w))) for w in new]\n",
    "mono_new_2 = [w for w in new if len(re.findall(r'[aoeiuyæ]+', w)) < 3 ]\n",
    "len(mono_new_2)"
   ]
  },
  {
   "cell_type": "code",
   "execution_count": 27,
   "metadata": {},
   "outputs": [],
   "source": [
    "with open(\"mono_2.txt\", 'w') as output:\n",
    "    for row in mono_new_2:\n",
    "        output.write(str(row) + '\\n')"
   ]
  },
  {
   "cell_type": "markdown",
   "metadata": {},
   "source": [
    "левенштейн"
   ]
  },
  {
   "cell_type": "code",
   "execution_count": 28,
   "metadata": {},
   "outputs": [],
   "source": [
    "from tqdm import tqdm"
   ]
  },
  {
   "cell_type": "code",
   "execution_count": 29,
   "metadata": {},
   "outputs": [],
   "source": [
    "# nopython=True, \n",
    "@jit\n",
    "def fisher_wagner(seq1, seq2):\n",
    "    size_x = len(seq1) + 1\n",
    "    size_y = len(seq2) + 1\n",
    "    matrix = np.zeros((size_x, size_y))\n",
    "    for x in range(size_x):\n",
    "        matrix[x, 0] = x\n",
    "    for y in range(size_y):\n",
    "        matrix[0, y] = y\n",
    "\n",
    "    for x in range(1, size_x):\n",
    "        for y in range(1, size_y):\n",
    "            if seq1[x-1] == seq2[y-1]:\n",
    "                matrix[x, y] = min(\n",
    "                    matrix[x-1, y] + 1,\n",
    "                    matrix[x-1, y-1],\n",
    "                    matrix[x, y-1] + 1)\n",
    "            else:\n",
    "                matrix[x, y] = min(\n",
    "                    matrix[x-1, y] + 1,     # удаление\n",
    "                    matrix[x-1, y-1] + 1,   # замена\n",
    "                    matrix[x, y-1] + 1)     # вставка\n",
    "    return matrix[size_x - 1, size_y - 1]\n",
    "\n",
    "@jit(nopython=True, parallel=True)\n",
    "def edit_distance(e1, e2):\n",
    "    return distance.edit_distance(e1, e2)\n"
   ]
  },
  {
   "cell_type": "code",
   "execution_count": 30,
   "metadata": {},
   "outputs": [],
   "source": [
    "# pairs_all = []\n",
    "# for e1 in tqdm(new_arr_1):\n",
    "#     for e2 in new_arr_1:\n",
    "#         if e1 != e2:\n",
    "#             pairs_all.append((e1, e2, fisher_wagner(e1, e2))) \n",
    "# #             pairs_all.append((e1, e2, edit_distance(e1, e2)))"
   ]
  },
  {
   "cell_type": "code",
   "execution_count": 31,
   "metadata": {},
   "outputs": [],
   "source": [
    "# lev_table = pd.DataFrame(pairs)"
   ]
  },
  {
   "cell_type": "code",
   "execution_count": 32,
   "metadata": {},
   "outputs": [],
   "source": [
    "# lev_table"
   ]
  },
  {
   "cell_type": "code",
   "execution_count": null,
   "metadata": {},
   "outputs": [],
   "source": []
  }
 ],
 "metadata": {
  "kernelspec": {
   "display_name": "Python 3",
   "language": "python",
   "name": "python3"
  },
  "language_info": {
   "codemirror_mode": {
    "name": "ipython",
    "version": 3
   },
   "file_extension": ".py",
   "mimetype": "text/x-python",
   "name": "python",
   "nbconvert_exporter": "python",
   "pygments_lexer": "ipython3",
   "version": "3.7.3"
  }
 },
 "nbformat": 4,
 "nbformat_minor": 4
}
